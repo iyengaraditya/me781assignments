{
  "nbformat": 4,
  "nbformat_minor": 0,
  "metadata": {
    "colab": {
      "name": "180100007_A1.ipynb",
      "provenance": [],
      "collapsed_sections": [
        "JR1Vbu4U4X44"
      ]
    },
    "kernelspec": {
      "name": "python3",
      "display_name": "Python 3"
    }
  },
  "cells": [
    {
      "cell_type": "markdown",
      "metadata": {
        "id": "CfrjUmxx0dck",
        "colab_type": "text"
      },
      "source": [
        "## Question 1\n",
        "Create a python code that will take an integer as an input and output all prime numbers less than the\n",
        "input number. The python code should be written from scratch without using any inbuilt libraries.\n",
        "However, you could later use SymPy libraries to compare your results.\n",
        "Please make sure that the program is so written that it is able to handle any invalid input (example a\n",
        "negative integer, a float, a string, etc.)."
      ]
    },
    {
      "cell_type": "markdown",
      "metadata": {
        "id": "G1Xyy7vA0-Z3",
        "colab_type": "text"
      },
      "source": [
        "### Functions:\n",
        "*is_Prime(int n)*: Returns *true* if integer n is prime, else *false*\n",
        "\n",
        "*get_Primes(int n)*: Returns an array containing all primes less than n"
      ]
    },
    {
      "cell_type": "code",
      "metadata": {
        "id": "8suaJvy71gU4",
        "colab_type": "code",
        "colab": {}
      },
      "source": [
        "def is_Prime(n):\n",
        "  n = int(n)\n",
        "  if(n <= 1):\n",
        "    return False\n",
        "  for i in range(2, n):\n",
        "    if n%i == 0:\n",
        "      return False\n",
        "  return True"
      ],
      "execution_count": null,
      "outputs": []
    },
    {
      "cell_type": "code",
      "metadata": {
        "id": "kNZpUYgq1_43",
        "colab_type": "code",
        "colab": {}
      },
      "source": [
        "import math\n",
        "def get_Primes(n):\n",
        "  try:\n",
        "    n = int(float(n))\n",
        "    if(n<0):\n",
        "      return \"You have entered wrong input\"\n",
        "    list_of_primes = []\n",
        "    for i in range(2, math.ceil(n)):\n",
        "      if is_Prime(i):\n",
        "        list_of_primes.append(i)\n",
        "  except ValueError:\n",
        "    return \"You have entered wrong input\"\n",
        "  return list_of_primes"
      ],
      "execution_count": null,
      "outputs": []
    },
    {
      "cell_type": "code",
      "metadata": {
        "id": "JHedt-wv28If",
        "colab_type": "code",
        "colab": {}
      },
      "source": [
        "## TESTING\n",
        "get_Primes(9)"
      ],
      "execution_count": null,
      "outputs": []
    },
    {
      "cell_type": "markdown",
      "metadata": {
        "id": "WU3xWxI64Gi3",
        "colab_type": "text"
      },
      "source": [
        "## Question 2\n",
        "Solve the problem of the Tower of Hanoi using recursion for a variable number of rings which is provided by the user.\n",
        "\n",
        "The famous Towers of Hanoi puzzle consists of 3 pegs (A, B, C) on one of which (A) are stacked n rings of\n",
        "different sizes, each ring resting on a larger ring. The objective is to move the n rings one by one until\n",
        "they are all stacked on another peg (B) in such a way that no ring is ever placed on a smaller ring; the\n",
        "other peg (C) can be used as a workspace."
      ]
    },
    {
      "cell_type": "markdown",
      "metadata": {
        "id": "JR1Vbu4U4X44",
        "colab_type": "text"
      },
      "source": [
        "### Functions\n",
        "*solve(n, P1, P2, P3)*: Recursive function that moves a stack of rings from the list P1 to P3, using P2 as a helper. "
      ]
    },
    {
      "cell_type": "code",
      "metadata": {
        "id": "xl-Af0nxnhal",
        "colab_type": "code",
        "colab": {}
      },
      "source": [
        "def solve(n, P1, P2, P3):\n",
        "    if n == 0:\n",
        "        # Peg is empty, no more rings left\n",
        "        return\n",
        "\n",
        "    # Recursively move n-1 rings from P1 to P2\n",
        "    solve(n-1, P1, P3, P2)\n",
        "    global count\n",
        "    count +=1\n",
        "    if P1:\n",
        "        # move the last ring from P1 to P3\n",
        "        P3.append(P1.pop())\n",
        "        print(\"Step\", count, A, B, C)\n",
        "\n",
        "    # Recursively move n-1 rings from P2 to P3\n",
        "    solve(n-1, P2, P1, P3)"
      ],
      "execution_count": null,
      "outputs": []
    },
    {
      "cell_type": "code",
      "metadata": {
        "id": "VrBAIrE7QxPe",
        "colab_type": "code",
        "colab": {}
      },
      "source": [
        "n = int(input(\"Enter a positive integer. \"))\n",
        "A = list(range(n,0,-1))\n",
        "B, C = [], []\n",
        "print(\"Initial condition = \", A, B, C)\n",
        "count = 0\n",
        "# Move rings from peg A to peg B using C as a helper\n",
        "solve(n, A, C, B)"
      ],
      "execution_count": null,
      "outputs": []
    }
  ]
}